{
  "nbformat": 4,
  "nbformat_minor": 0,
  "metadata": {
    "colab": {
      "name": "semi supervised learning_.ipynb",
      "provenance": [],
      "collapsed_sections": []
    },
    "kernelspec": {
      "display_name": "Python 3",
      "name": "python3"
    },
    "language_info": {
      "name": "python"
    }
  },
  "cells": [
    {
      "cell_type": "code",
      "metadata": {
        "id": "PnOqDo0tEprp"
      },
      "source": [
        "import cv2\n",
        "import numpy as np\n",
        "from sklearn.linear_model import SGDClassifier\n",
        "from sklearn.linear_model import LogisticRegression\n",
        "from sklearn.ensemble import RandomForestClassifier\n",
        "from sklearn.pipeline import Pipeline\n",
        "from sklearn.cluster import KMeans\n",
        "import matplotlib.pyplot as plt\n",
        "import warnings\n",
        "warnings.filterwarnings('ignore')\n",
        "import tensorflow as tf\n",
        "from tensorflow import keras\n",
        "from keras.datasets import fashion_mnist"
      ],
      "execution_count": 37,
      "outputs": []
    },
    {
      "cell_type": "code",
      "metadata": {
        "colab": {
          "base_uri": "https://localhost:8080/"
        },
        "id": "RqttQUsLFELE",
        "outputId": "e9edf041-f06c-48f5-8eff-0a715e30b09a"
      },
      "source": [
        "(X_train,y_train),(X_test,y_test)=fashion_mnist.load_data()\n",
        "X_train, X_test= X_train/255.0, X_test/255.0\n",
        "print(f\"X-train shape: {X_train.shape}\")\n",
        "print(f\"y-train shape: {y_train.shape}\")\n",
        "print(f\"X-test shape: {X_test.shape}\")\n",
        "print(f\"y-test shape: {y_test.shape}\")"
      ],
      "execution_count": null,
      "outputs": [
        {
          "output_type": "stream",
          "text": [
            "X-train shape: (60000, 28, 28)\n",
            "y-train shape: (60000,)\n",
            "X-test shape: (10000, 28, 28)\n",
            "y-test shape: (10000,)\n"
          ],
          "name": "stdout"
        }
      ]
    },
    {
      "cell_type": "code",
      "metadata": {
        "id": "e8v7Q1kdsF6e"
      },
      "source": [
        "y_names=['T-shirt/top','Trouser','Pullover','Dress','Coat','Sandal','Shirt',\n",
        "            'Sneaker','Bag','Ankle Boot']"
      ],
      "execution_count": null,
      "outputs": []
    },
    {
      "cell_type": "code",
      "metadata": {
        "colab": {
          "base_uri": "https://localhost:8080/"
        },
        "id": "6L2FGQeNjANB",
        "outputId": "c1e809a0-434d-418d-9ab5-21ea996a0f96"
      },
      "source": [
        "X_train.shape"
      ],
      "execution_count": null,
      "outputs": [
        {
          "output_type": "execute_result",
          "data": {
            "text/plain": [
              "(60000, 28, 28)"
            ]
          },
          "metadata": {
            "tags": []
          },
          "execution_count": 5
        }
      ]
    },
    {
      "cell_type": "code",
      "metadata": {
        "id": "CCxFTcBgFaLT"
      },
      "source": [
        "# Flattening data for Logistic Regression\n",
        "X_train_flatten= X_train.reshape(X_train.shape[0],-1)\n",
        "y_train_flatten= y_train.reshape(y_train.shape[0],-1)\n",
        "X_test_flatten= X_test.reshape(X_test.shape[0],-1)\n",
        "y_test_flatten= y_test.reshape(y_test.shape[0],-1)"
      ],
      "execution_count": null,
      "outputs": []
    },
    {
      "cell_type": "code",
      "metadata": {
        "colab": {
          "base_uri": "https://localhost:8080/"
        },
        "id": "jNy8VJhGGpz4",
        "outputId": "149455af-3d30-49d7-a3f9-646bb30e95d8"
      },
      "source": [
        "y_train.shape"
      ],
      "execution_count": null,
      "outputs": [
        {
          "output_type": "execute_result",
          "data": {
            "text/plain": [
              "(60000,)"
            ]
          },
          "metadata": {
            "tags": []
          },
          "execution_count": 7
        }
      ]
    },
    {
      "cell_type": "code",
      "metadata": {
        "colab": {
          "base_uri": "https://localhost:8080/",
          "height": 265
        },
        "id": "DxQ_AdzNGDOL",
        "outputId": "d4f6ca58-73f6-4639-9b44-ff20f7f0d1f3"
      },
      "source": [
        "index=400\n",
        "plt.imshow(X_train[400],cmap='gray')\n",
        "plt.axis('off')\n",
        "plt.show()\n",
        "print('It is a ',y_names[y_train[index]])"
      ],
      "execution_count": null,
      "outputs": [
        {
          "output_type": "display_data",
          "data": {
            "image/png": "[encoded data removed]",
            "text/plain": [
              "<Figure size 432x288 with 1 Axes>"
            ]
          },
          "metadata": {
            "tags": []
          }
        },
        {
          "output_type": "stream",
          "text": [
            "It is a  Pullover\n"
          ],
          "name": "stdout"
        }
      ]
    },
    {
      "cell_type": "markdown",
      "metadata": {
        "id": "UP0q9uk5jtZp"
      },
      "source": [
        "###Baseline SVC"
      ]
    },
    {
      "cell_type": "code",
      "metadata": {
        "colab": {
          "base_uri": "https://localhost:8080/"
        },
        "id": "5SJxpAcqjrgA",
        "outputId": "67c7aa5a-96e6-4bb5-a342-9aae491f6785"
      },
      "source": [
        "clf = SGDClassifier(loss=\"hinge\", penalty=\"l2\", max_iter=1000)\n",
        "clf.fit(X_train_flatten, y_train_flatten.ravel())"
      ],
      "execution_count": null,
      "outputs": [
        {
          "output_type": "execute_result",
          "data": {
            "text/plain": [
              "SGDClassifier(alpha=0.0001, average=False, class_weight=None,\n",
              "              early_stopping=False, epsilon=0.1, eta0=0.0, fit_intercept=True,\n",
              "              l1_ratio=0.15, learning_rate='optimal', loss='hinge',\n",
              "              max_iter=1000, n_iter_no_change=5, n_jobs=None, penalty='l2',\n",
              "              power_t=0.5, random_state=None, shuffle=True, tol=0.001,\n",
              "              validation_fraction=0.1, verbose=0, warm_start=False)"
            ]
          },
          "metadata": {
            "tags": []
          },
          "execution_count": 9
        }
      ]
    },
    {
      "cell_type": "code",
      "metadata": {
        "colab": {
          "base_uri": "https://localhost:8080/"
        },
        "id": "hTY27TsLIgKp",
        "outputId": "f18f8933-b5ee-42a3-b40e-13bf2027ada3"
      },
      "source": [
        "clf.score(X_test_flatten, y_test_flatten)"
      ],
      "execution_count": null,
      "outputs": [
        {
          "output_type": "execute_result",
          "data": {
            "text/plain": [
              "0.8333"
            ]
          },
          "metadata": {
            "tags": []
          },
          "execution_count": 10
        }
      ]
    },
    {
      "cell_type": "markdown",
      "metadata": {
        "id": "bpveTlHOnx99"
      },
      "source": [
        "###SVC with random 2000 data point"
      ]
    },
    {
      "cell_type": "code",
      "metadata": {
        "colab": {
          "base_uri": "https://localhost:8080/"
        },
        "id": "4Nxe5-OsnXQK",
        "outputId": "65270117-0eda-4596-9c3b-3ef49b741d2a"
      },
      "source": [
        "model = SGDClassifier(loss=\"hinge\", penalty=\"l2\", max_iter=1000)\n",
        "model.fit(X_train_flatten[:2000], y_train_flatten[:2000].ravel())\n",
        "print('Accuracy= {}'.format(model.score(X_test_flatten,y_test_flatten.ravel())))"
      ],
      "execution_count": 74,
      "outputs": [
        {
          "output_type": "stream",
          "text": [
            "Accuracy= 0.7234\n"
          ],
          "name": "stdout"
        }
      ]
    },
    {
      "cell_type": "code",
      "metadata": {
        "colab": {
          "background_save": true
        },
        "id": "3hVjhywJOGUO"
      },
      "source": [
        "kmeans = KMeans(init='k-means++',n_clusters=2000, random_state=40)\n",
        "X_items = kmeans.fit_transform(X_train_flatten)\n",
        "representative_items_index = np.argmin(X_items, axis=0)\n",
        "X_representative_items = X_train_flatten[representative_items_index]\n",
        "y_representative_items = np.squeeze(y_train_flatten[representative_items_index]).astype('int32')"
      ],
      "execution_count": null,
      "outputs": []
    },
    {
      "cell_type": "code",
      "metadata": {
        "colab": {
          "base_uri": "https://localhost:8080/"
        },
        "id": "svY1J84BYes0",
        "outputId": "3aff2568-7e99-4893-e0de-b2311645fb03"
      },
      "source": [
        "print(np.array(y_names)[y_representative_items])"
      ],
      "execution_count": 13,
      "outputs": [
        {
          "output_type": "stream",
          "text": [
            "['Ankle Boot' 'Sandal' 'T-shirt/top' ... 'Shirt' 'Bag' 'Sandal']\n"
          ],
          "name": "stdout"
        }
      ]
    },
    {
      "cell_type": "markdown",
      "metadata": {
        "id": "123rXEUQj2Xg"
      },
      "source": [
        "###SVC after preprocessing with 40% of original data points which are images nearest to centroids"
      ]
    },
    {
      "cell_type": "code",
      "metadata": {
        "colab": {
          "base_uri": "https://localhost:8080/"
        },
        "id": "TAlyegSyZFci",
        "outputId": "d882c4c0-84d5-4c4c-eff0-e05757a33d70"
      },
      "source": [
        "clf1 = SGDClassifier(loss=\"hinge\", penalty=\"l2\", max_iter=1000)\n",
        "clf1.fit(X_representative_items, y_representative_items)\n",
        "print('Accuracy= ',clf1.score(X_test_flatten, y_test_flatten))"
      ],
      "execution_count": 24,
      "outputs": [
        {
          "output_type": "stream",
          "text": [
            "Accuracy=  0.7793\n"
          ],
          "name": "stdout"
        }
      ]
    },
    {
      "cell_type": "code",
      "metadata": {
        "id": "lasr5vj7YyzH"
      },
      "source": [
        "y_train_propagated = np.empty(len(X_train_flatten), dtype=np.int32)\n",
        "for i in range(2000):\n",
        "    y_train_propagated[kmeans.labels_==i] = y_representative_items[i]"
      ],
      "execution_count": 25,
      "outputs": []
    },
    {
      "cell_type": "markdown",
      "metadata": {
        "id": "32zLktMikQz1"
      },
      "source": [
        "###SVC after propagating cluster label to every point in that particular cluster"
      ]
    },
    {
      "cell_type": "code",
      "metadata": {
        "colab": {
          "base_uri": "https://localhost:8080/"
        },
        "id": "s5pLn3YsaXdS",
        "outputId": "622f39fd-7c43-4e3d-8096-3bf6c76da558"
      },
      "source": [
        "clf2 = SGDClassifier(loss=\"hinge\", penalty=\"l2\", max_iter=1000,random_state=40)\n",
        "clf2.fit(X_train_flatten, y_train_propagated)\n",
        "print(clf2.score(X_test_flatten,y_test_flatten))"
      ],
      "execution_count": 55,
      "outputs": [
        {
          "output_type": "stream",
          "text": [
            "0.8052\n"
          ],
          "name": "stdout"
        }
      ]
    },
    {
      "cell_type": "markdown",
      "metadata": {
        "id": "o1ZTjzAvlh5y"
      },
      "source": [
        "###SVC after propagating representative images to nearest 20% of the points to the centroids\n",
        "\n",
        "\n"
      ]
    },
    {
      "cell_type": "code",
      "metadata": {
        "id": "dnEqZUCtY_Vo"
      },
      "source": [
        "X_cluster = X_items[np.arange(len(X_train_flatten)), kmeans.labels_]\n",
        "for i in range(2000):\n",
        "    in_cluster = (kmeans.labels_ == i)\n",
        "    cluster_dist = X_cluster[in_cluster]\n",
        "    cutoff = np.percentile(cluster_dist,20)\n",
        "    above_cutoff = (X_cluster > cutoff)\n",
        "    X_cluster[in_cluster & above_cutoff] = -1"
      ],
      "execution_count": 132,
      "outputs": []
    },
    {
      "cell_type": "code",
      "metadata": {
        "id": "w3g_Y0trZL7H"
      },
      "source": [
        "partially_propagated = (X_cluster!= -1)\n",
        "X_train_partially_propagated = X_train_flatten[partially_propagated]\n",
        "y_train_partially_propagated = y_train_propagated[partially_propagated]"
      ],
      "execution_count": 133,
      "outputs": []
    },
    {
      "cell_type": "code",
      "metadata": {
        "colab": {
          "base_uri": "https://localhost:8080/"
        },
        "id": "7g8KQwV0ZSGC",
        "outputId": "c2f17af0-9a17-4617-82d9-4e057249f432"
      },
      "source": [
        "clf3 = SGDClassifier(loss=\"hinge\", penalty=\"l2\", max_iter=1000,random_state=40)\n",
        "clf3.fit(X_train_partially_propagated, y_train_partially_propagated)\n",
        "print(clf3.score(X_test_flatten,y_test_flatten))"
      ],
      "execution_count": 134,
      "outputs": [
        {
          "output_type": "stream",
          "text": [
            "0.7907\n"
          ],
          "name": "stdout"
        }
      ]
    }
  ]
}
